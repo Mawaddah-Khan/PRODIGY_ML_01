{
  "cells": [
    {
      "cell_type": "markdown",
      "metadata": {
        "id": "FTgyReMy18Rv"
      },
      "source": [
        "#**Importing Required Datasets**"
      ]
    },
    {
      "cell_type": "code",
      "execution_count": 1,
      "metadata": {
        "id": "1jIN6WL01VSU"
      },
      "outputs": [],
      "source": [
        "import pandas as pd\n",
        "import numpy as np\n",
        "import zipfile\n",
        "import os\n",
        "from sklearn.model_selection import train_test_split\n",
        "from sklearn.linear_model import LinearRegression\n",
        "from sklearn.metrics import mean_squared_error, r2_score"
      ]
    },
    {
      "cell_type": "markdown",
      "metadata": {
        "id": "uzezNW9M2VLg"
      },
      "source": [
        "# **Unzip the dataset**"
      ]
    },
    {
      "cell_type": "code",
      "execution_count": 2,
      "metadata": {
        "id": "WeHheZCO2UTi"
      },
      "outputs": [],
      "source": [
        "with zipfile.ZipFile('/content/house-prices-advanced-regression-techniques.zip', 'r') as zip_ref:\n",
        "    zip_ref.extractall('house_prices_data')"
      ]
    },
    {
      "cell_type": "markdown",
      "metadata": {
        "id": "WT6KEO4s2hPd"
      },
      "source": [
        "# **Load dataset**"
      ]
    },
    {
      "cell_type": "code",
      "execution_count": 3,
      "metadata": {
        "id": "kfOsrdZt2f-T"
      },
      "outputs": [],
      "source": [
        "df = pd.read_csv(os.path.join('house_prices_data', 'train.csv'))"
      ]
    },
    {
      "cell_type": "markdown",
      "metadata": {
        "id": "jJMlEDw82xK_"
      },
      "source": [
        "# **Display the first few rows of the dataset**"
      ]
    },
    {
      "cell_type": "code",
      "execution_count": 4,
      "metadata": {
        "colab": {
          "base_uri": "https://localhost:8080/"
        },
        "id": "FehMHmij2rDX",
        "outputId": "61359550-1328-446b-9c5d-ce59dc7bb3c2"
      },
      "outputs": [
        {
          "name": "stdout",
          "output_type": "stream",
          "text": [
            "   Id  MSSubClass MSZoning  LotFrontage  LotArea Street Alley LotShape  \\\n",
            "0   1          60       RL         65.0     8450   Pave   NaN      Reg   \n",
            "1   2          20       RL         80.0     9600   Pave   NaN      Reg   \n",
            "2   3          60       RL         68.0    11250   Pave   NaN      IR1   \n",
            "3   4          70       RL         60.0     9550   Pave   NaN      IR1   \n",
            "4   5          60       RL         84.0    14260   Pave   NaN      IR1   \n",
            "\n",
            "  LandContour Utilities  ... PoolArea PoolQC Fence MiscFeature MiscVal MoSold  \\\n",
            "0         Lvl    AllPub  ...        0    NaN   NaN         NaN       0      2   \n",
            "1         Lvl    AllPub  ...        0    NaN   NaN         NaN       0      5   \n",
            "2         Lvl    AllPub  ...        0    NaN   NaN         NaN       0      9   \n",
            "3         Lvl    AllPub  ...        0    NaN   NaN         NaN       0      2   \n",
            "4         Lvl    AllPub  ...        0    NaN   NaN         NaN       0     12   \n",
            "\n",
            "  YrSold  SaleType  SaleCondition  SalePrice  \n",
            "0   2008        WD         Normal     208500  \n",
            "1   2007        WD         Normal     181500  \n",
            "2   2008        WD         Normal     223500  \n",
            "3   2006        WD        Abnorml     140000  \n",
            "4   2008        WD         Normal     250000  \n",
            "\n",
            "[5 rows x 81 columns]\n"
          ]
        }
      ],
      "source": [
        "print(df.head())"
      ]
    },
    {
      "cell_type": "markdown",
      "metadata": {
        "id": "6pLse49f4TxL"
      },
      "source": [
        "# **Select relevant features**"
      ]
    },
    {
      "cell_type": "code",
      "execution_count": 5,
      "metadata": {
        "id": "eWKgCaNl25gC"
      },
      "outputs": [],
      "source": [
        "features = ['GrLivArea', 'BedroomAbvGr', 'FullBath']\n",
        "target = 'SalePrice'"
      ]
    },
    {
      "cell_type": "markdown",
      "metadata": {
        "id": "ZfmyP_1o4eN1"
      },
      "source": [
        "# **Handle missing values (if any)**"
      ]
    },
    {
      "cell_type": "code",
      "execution_count": 6,
      "metadata": {
        "id": "p0LMESn54ZjL"
      },
      "outputs": [],
      "source": [
        "df = df[features + [target]].dropna()"
      ]
    },
    {
      "cell_type": "markdown",
      "metadata": {
        "id": "GTSUiJ2W4zU_"
      },
      "source": [
        "# **Separate features and target variable**"
      ]
    },
    {
      "cell_type": "code",
      "execution_count": 7,
      "metadata": {
        "id": "gS92wEpl4yvO"
      },
      "outputs": [],
      "source": [
        "X = df[features]\n",
        "y = df[target]\n"
      ]
    },
    {
      "cell_type": "markdown",
      "metadata": {
        "id": "sP_ueH814l-T"
      },
      "source": [
        "# **Split data into training and testing sets**"
      ]
    },
    {
      "cell_type": "code",
      "execution_count": 8,
      "metadata": {
        "id": "OsITgqXp4lal"
      },
      "outputs": [],
      "source": [
        "X_train, X_test, y_train, y_test = train_test_split(X, y, test_size=0.2, random_state=42)"
      ]
    },
    {
      "cell_type": "markdown",
      "metadata": {
        "id": "61lc5zsJ5PfP"
      },
      "source": [
        "# **Initialize and train the linear regression model**"
      ]
    },
    {
      "cell_type": "code",
      "execution_count": 9,
      "metadata": {
        "colab": {
          "base_uri": "https://localhost:8080/",
          "height": 74
        },
        "id": "UipEb-HH5O7i",
        "outputId": "a091a3d6-1536-4b80-fcdc-ced97d2ff953"
      },
      "outputs": [
        {
          "data": {
            "text/html": [
              "<style>#sk-container-id-1 {color: black;background-color: white;}#sk-container-id-1 pre{padding: 0;}#sk-container-id-1 div.sk-toggleable {background-color: white;}#sk-container-id-1 label.sk-toggleable__label {cursor: pointer;display: block;width: 100%;margin-bottom: 0;padding: 0.3em;box-sizing: border-box;text-align: center;}#sk-container-id-1 label.sk-toggleable__label-arrow:before {content: \"▸\";float: left;margin-right: 0.25em;color: #696969;}#sk-container-id-1 label.sk-toggleable__label-arrow:hover:before {color: black;}#sk-container-id-1 div.sk-estimator:hover label.sk-toggleable__label-arrow:before {color: black;}#sk-container-id-1 div.sk-toggleable__content {max-height: 0;max-width: 0;overflow: hidden;text-align: left;background-color: #f0f8ff;}#sk-container-id-1 div.sk-toggleable__content pre {margin: 0.2em;color: black;border-radius: 0.25em;background-color: #f0f8ff;}#sk-container-id-1 input.sk-toggleable__control:checked~div.sk-toggleable__content {max-height: 200px;max-width: 100%;overflow: auto;}#sk-container-id-1 input.sk-toggleable__control:checked~label.sk-toggleable__label-arrow:before {content: \"▾\";}#sk-container-id-1 div.sk-estimator input.sk-toggleable__control:checked~label.sk-toggleable__label {background-color: #d4ebff;}#sk-container-id-1 div.sk-label input.sk-toggleable__control:checked~label.sk-toggleable__label {background-color: #d4ebff;}#sk-container-id-1 input.sk-hidden--visually {border: 0;clip: rect(1px 1px 1px 1px);clip: rect(1px, 1px, 1px, 1px);height: 1px;margin: -1px;overflow: hidden;padding: 0;position: absolute;width: 1px;}#sk-container-id-1 div.sk-estimator {font-family: monospace;background-color: #f0f8ff;border: 1px dotted black;border-radius: 0.25em;box-sizing: border-box;margin-bottom: 0.5em;}#sk-container-id-1 div.sk-estimator:hover {background-color: #d4ebff;}#sk-container-id-1 div.sk-parallel-item::after {content: \"\";width: 100%;border-bottom: 1px solid gray;flex-grow: 1;}#sk-container-id-1 div.sk-label:hover label.sk-toggleable__label {background-color: #d4ebff;}#sk-container-id-1 div.sk-serial::before {content: \"\";position: absolute;border-left: 1px solid gray;box-sizing: border-box;top: 0;bottom: 0;left: 50%;z-index: 0;}#sk-container-id-1 div.sk-serial {display: flex;flex-direction: column;align-items: center;background-color: white;padding-right: 0.2em;padding-left: 0.2em;position: relative;}#sk-container-id-1 div.sk-item {position: relative;z-index: 1;}#sk-container-id-1 div.sk-parallel {display: flex;align-items: stretch;justify-content: center;background-color: white;position: relative;}#sk-container-id-1 div.sk-item::before, #sk-container-id-1 div.sk-parallel-item::before {content: \"\";position: absolute;border-left: 1px solid gray;box-sizing: border-box;top: 0;bottom: 0;left: 50%;z-index: -1;}#sk-container-id-1 div.sk-parallel-item {display: flex;flex-direction: column;z-index: 1;position: relative;background-color: white;}#sk-container-id-1 div.sk-parallel-item:first-child::after {align-self: flex-end;width: 50%;}#sk-container-id-1 div.sk-parallel-item:last-child::after {align-self: flex-start;width: 50%;}#sk-container-id-1 div.sk-parallel-item:only-child::after {width: 0;}#sk-container-id-1 div.sk-dashed-wrapped {border: 1px dashed gray;margin: 0 0.4em 0.5em 0.4em;box-sizing: border-box;padding-bottom: 0.4em;background-color: white;}#sk-container-id-1 div.sk-label label {font-family: monospace;font-weight: bold;display: inline-block;line-height: 1.2em;}#sk-container-id-1 div.sk-label-container {text-align: center;}#sk-container-id-1 div.sk-container {/* jupyter's `normalize.less` sets `[hidden] { display: none; }` but bootstrap.min.css set `[hidden] { display: none !important; }` so we also need the `!important` here to be able to override the default hidden behavior on the sphinx rendered scikit-learn.org. See: https://github.com/scikit-learn/scikit-learn/issues/21755 */display: inline-block !important;position: relative;}#sk-container-id-1 div.sk-text-repr-fallback {display: none;}</style><div id=\"sk-container-id-1\" class=\"sk-top-container\"><div class=\"sk-text-repr-fallback\"><pre>LinearRegression()</pre><b>In a Jupyter environment, please rerun this cell to show the HTML representation or trust the notebook. <br />On GitHub, the HTML representation is unable to render, please try loading this page with nbviewer.org.</b></div><div class=\"sk-container\" hidden><div class=\"sk-item\"><div class=\"sk-estimator sk-toggleable\"><input class=\"sk-toggleable__control sk-hidden--visually\" id=\"sk-estimator-id-1\" type=\"checkbox\" checked><label for=\"sk-estimator-id-1\" class=\"sk-toggleable__label sk-toggleable__label-arrow\">LinearRegression</label><div class=\"sk-toggleable__content\"><pre>LinearRegression()</pre></div></div></div></div></div>"
            ],
            "text/plain": [
              "LinearRegression()"
            ]
          },
          "execution_count": 9,
          "metadata": {},
          "output_type": "execute_result"
        }
      ],
      "source": [
        "model = LinearRegression()\n",
        "model.fit(X_train, y_train)"
      ]
    },
    {
      "cell_type": "markdown",
      "metadata": {
        "id": "0zXHEqtR5XSw"
      },
      "source": [
        "# **Make predictions**"
      ]
    },
    {
      "cell_type": "code",
      "execution_count": 10,
      "metadata": {
        "id": "QS3lgkom5WHI"
      },
      "outputs": [],
      "source": [
        "y_pred_train = model.predict(X_train)\n",
        "y_pred_test = model.predict(X_test)"
      ]
    },
    {
      "cell_type": "markdown",
      "metadata": {
        "id": "S1FnveH55hSu"
      },
      "source": [
        "# **Evaluate the model**"
      ]
    },
    {
      "cell_type": "code",
      "execution_count": 11,
      "metadata": {
        "colab": {
          "base_uri": "https://localhost:8080/"
        },
        "id": "wSehVmM95flZ",
        "outputId": "2ee2cc0c-6380-4716-de6a-d1b0bcbf2fb2"
      },
      "outputs": [
        {
          "name": "stdout",
          "output_type": "stream",
          "text": [
            "Training MSE: 2593336031.32\n",
            "Training R2: 0.57\n",
            "Testing MSE: 2806426667.25\n",
            "Testing R2: 0.63\n"
          ]
        }
      ],
      "source": [
        "mse_train = mean_squared_error(y_train, y_pred_train)\n",
        "r2_train = r2_score(y_train, y_pred_train)\n",
        "mse_test = mean_squared_error(y_test, y_pred_test)\n",
        "r2_test = r2_score(y_test, y_pred_test)\n",
        "\n",
        "print(f'Training MSE: {mse_train:.2f}')\n",
        "print(f'Training R2: {r2_train:.2f}')\n",
        "print(f'Testing MSE: {mse_test:.2f}')\n",
        "print(f'Testing R2: {r2_test:.2f}')"
      ]
    },
    {
      "cell_type": "markdown",
      "metadata": {
        "id": "U10eBJSw5oXA"
      },
      "source": [
        "# **Output the model coefficients**"
      ]
    },
    {
      "cell_type": "code",
      "execution_count": 12,
      "metadata": {
        "colab": {
          "base_uri": "https://localhost:8080/"
        },
        "id": "rrZR-uIS5nWq",
        "outputId": "0531b3c1-946d-420c-8b09-f01a8ff52e33"
      },
      "outputs": [
        {
          "name": "stdout",
          "output_type": "stream",
          "text": [
            "Model Coefficients:\n",
            "Intercept: 52261.74862694461\n",
            "               Coefficient\n",
            "GrLivArea       104.026307\n",
            "BedroomAbvGr -26655.165357\n",
            "FullBath      30014.324109\n"
          ]
        }
      ],
      "source": [
        "print('Model Coefficients:')\n",
        "print(f'Intercept: {model.intercept_}')\n",
        "coeff_df = pd.DataFrame(model.coef_, features, columns=['Coefficient'])\n",
        "print(coeff_df)"
      ]
    },
    {
      "cell_type": "markdown",
      "metadata": {
        "id": "Ml3-idni5_fE"
      },
      "source": [
        "# **Load test dataset**"
      ]
    },
    {
      "cell_type": "code",
      "execution_count": 13,
      "metadata": {
        "id": "EZe_jXef5vx7"
      },
      "outputs": [],
      "source": [
        "test_df = pd.read_csv(os.path.join('house_prices_data', 'test.csv'))"
      ]
    },
    {
      "cell_type": "markdown",
      "metadata": {
        "id": "sD6aw5TE6Gpq"
      },
      "source": [
        "# **Display the first few rows of the test dataset**"
      ]
    },
    {
      "cell_type": "code",
      "execution_count": 14,
      "metadata": {
        "colab": {
          "base_uri": "https://localhost:8080/"
        },
        "id": "rx7Pbl8d6FjK",
        "outputId": "cf74c731-49b5-4687-bce9-bc64934a4da9"
      },
      "outputs": [
        {
          "name": "stdout",
          "output_type": "stream",
          "text": [
            "\n",
            "Test data preview:\n",
            "     Id  MSSubClass MSZoning  LotFrontage  LotArea Street Alley LotShape  \\\n",
            "0  1461          20       RH         80.0    11622   Pave   NaN      Reg   \n",
            "1  1462          20       RL         81.0    14267   Pave   NaN      IR1   \n",
            "2  1463          60       RL         74.0    13830   Pave   NaN      IR1   \n",
            "3  1464          60       RL         78.0     9978   Pave   NaN      IR1   \n",
            "4  1465         120       RL         43.0     5005   Pave   NaN      IR1   \n",
            "\n",
            "  LandContour Utilities  ... ScreenPorch PoolArea PoolQC  Fence MiscFeature  \\\n",
            "0         Lvl    AllPub  ...         120        0    NaN  MnPrv         NaN   \n",
            "1         Lvl    AllPub  ...           0        0    NaN    NaN        Gar2   \n",
            "2         Lvl    AllPub  ...           0        0    NaN  MnPrv         NaN   \n",
            "3         Lvl    AllPub  ...           0        0    NaN    NaN         NaN   \n",
            "4         HLS    AllPub  ...         144        0    NaN    NaN         NaN   \n",
            "\n",
            "  MiscVal MoSold  YrSold  SaleType  SaleCondition  \n",
            "0       0      6    2010        WD         Normal  \n",
            "1   12500      6    2010        WD         Normal  \n",
            "2       0      3    2010        WD         Normal  \n",
            "3       0      6    2010        WD         Normal  \n",
            "4       0      1    2010        WD         Normal  \n",
            "\n",
            "[5 rows x 80 columns]\n"
          ]
        }
      ],
      "source": [
        "print(\"\\nTest data preview:\")\n",
        "print(test_df.head())"
      ]
    },
    {
      "cell_type": "markdown",
      "metadata": {
        "id": "9xejfF-c6Nbo"
      },
      "source": [
        "# **Handle missing values (if any) in the test set**"
      ]
    },
    {
      "cell_type": "code",
      "execution_count": 15,
      "metadata": {
        "id": "MMDIPlXR6MRb"
      },
      "outputs": [],
      "source": [
        "test_df = test_df[features].dropna()"
      ]
    },
    {
      "cell_type": "markdown",
      "metadata": {
        "id": "B-2zp7VJ6Xvy"
      },
      "source": [
        "# **Separate features in the test set**"
      ]
    },
    {
      "cell_type": "code",
      "execution_count": 16,
      "metadata": {
        "id": "61YdU_g66Uw0"
      },
      "outputs": [],
      "source": [
        "X_test = test_df[features]"
      ]
    },
    {
      "cell_type": "markdown",
      "metadata": {
        "id": "4VKTqh4V6c4p"
      },
      "source": [
        "# **Make predictions on the test set**"
      ]
    },
    {
      "cell_type": "code",
      "execution_count": 17,
      "metadata": {
        "id": "QJEZkkHq6cGW"
      },
      "outputs": [],
      "source": [
        "test_predictions = model.predict(X_test)"
      ]
    },
    {
      "cell_type": "markdown",
      "metadata": {
        "id": "BSXS5jqL6oW3"
      },
      "source": [
        "# **Create a DataFrame to hold the predictions**"
      ]
    },
    {
      "cell_type": "code",
      "execution_count": 18,
      "metadata": {
        "id": "70jHx4oF6nb0"
      },
      "outputs": [],
      "source": [
        "predictions_df = pd.DataFrame({\n",
        "    'Id': test_df.index,\n",
        "    'SalePrice': test_predictions\n",
        "})"
      ]
    },
    {
      "cell_type": "markdown",
      "metadata": {
        "id": "tuM6OoJx60wc"
      },
      "source": [
        "# **Save the predictions to a CSV file**"
      ]
    },
    {
      "cell_type": "code",
      "execution_count": 19,
      "metadata": {
        "colab": {
          "base_uri": "https://localhost:8080/"
        },
        "id": "msom2aNM6z4x",
        "outputId": "087bdd79-5e4a-44a4-9d80-7aa800e64204"
      },
      "outputs": [
        {
          "name": "stdout",
          "output_type": "stream",
          "text": [
            "\n",
            "Predictions saved to 'house_price_predictions.csv'\n"
          ]
        }
      ],
      "source": [
        "predictions_df.to_csv('house_price_predictions.csv', index=False)\n",
        "\n",
        "print(\"\\nPredictions saved to 'house_price_predictions.csv'\")"
      ]
    },
    {
      "cell_type": "code",
      "execution_count": null,
      "metadata": {
        "id": "y2wm-kXP6-FF"
      },
      "outputs": [],
      "source": []
    }
  ],
  "metadata": {
    "colab": {
      "provenance": []
    },
    "kernelspec": {
      "display_name": "Python 3",
      "name": "python3"
    },
    "language_info": {
      "name": "python"
    }
  },
  "nbformat": 4,
  "nbformat_minor": 0
}
